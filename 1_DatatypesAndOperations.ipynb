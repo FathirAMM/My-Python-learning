{
 "cells": [
  {
   "cell_type": "markdown",
   "id": "84855963",
   "metadata": {},
   "source": [
    "# <h1 align=\"center\" color=\"red\"><span style=\"color: red;\">Day 01- Kick start python Basic data types and operations</span></h1> "
   ]
  },
  {
   "cell_type": "markdown",
   "id": "f308de79",
   "metadata": {},
   "source": [
    "# <span style=\"color: green;\">First python code</span>"
   ]
  },
  {
   "cell_type": "code",
   "execution_count": 3,
   "id": "1874e3a8",
   "metadata": {},
   "outputs": [
    {
     "name": "stdout",
     "output_type": "stream",
     "text": [
      "Hello world\n"
     ]
    }
   ],
   "source": [
    "print(\"Hello world\")"
   ]
  },
  {
   "cell_type": "markdown",
   "id": "f97bc46f",
   "metadata": {},
   "source": [
    "# <span style=\"color: green;\">Data types</span>"
   ]
  },
  {
   "cell_type": "code",
   "execution_count": 38,
   "id": "1691bf54",
   "metadata": {},
   "outputs": [
    {
     "name": "stdout",
     "output_type": "stream",
     "text": [
      "1     <class 'int'>\n",
      "1.0     <class 'float'>\n",
      "True     <class 'bool'>\n",
      "(5+5j)     <class 'complex'>\n",
      "555     <class 'str'>\n",
      "[1, 1.0, 'cat', 45]     <class 'list'>\n",
      "(1, 1.0, 'cat', 45)     <class 'tuple'>\n",
      "{'cat', 1, 45, 25}     <class 'set'>\n",
      "{'maths': 45, 'physics': 56, 'chemistry': 89}     <class 'dict'>\n"
     ]
    }
   ],
   "source": [
    "#Numerical data types\n",
    "a=1;                                                     print(a,\"   \",type(a))\n",
    "\n",
    "b=1.0;                                                   print(b,\"   \",type(b))\n",
    "\n",
    "c=10 > 5;                                                print(c,\"   \",type(c))\n",
    "\n",
    "d=5+5j;                                                  print(d,\"   \",type(d))\n",
    "\n",
    " \n",
    "#text data types    \n",
    "e=\"555\";                                                 print(e,\"   \",type(e))\n",
    "\n",
    "                                                       \n",
    "#container data types\n",
    "f=[1,1.0,\"cat\",45];                                      print(f,\"   \",type(f))\n",
    "                                                         #list has comma seprated values within [] &values can be anything\n",
    "                                                         #list order index start with 0 and end with -1\n",
    "g=(1,1.0,\"cat\",45);                                      print(g,\"   \",type(g))\n",
    "                                                         #tuple is read only ordered list & comma seperated values within ()\n",
    "h={1,25,\"cat\",45};                                       print(h,\"   \",type(h))\n",
    "                                                         #set has unordered comma seperated nonduplicate values within {}\n",
    "i={\"maths\":45,\"physics\":56,\"chemistry\":89};              print(i,\"   \",type(i))\n",
    "                                                         #dictionary is a unorederd key-value pairs comma seperated values within {}"
   ]
  },
  {
   "cell_type": "markdown",
   "id": "13cb47de",
   "metadata": {},
   "source": [
    "# <span style=\"color: green;\">String operation</span>"
   ]
  },
  {
   "cell_type": "code",
   "execution_count": 72,
   "id": "855a1fd9",
   "metadata": {},
   "outputs": [
    {
     "name": "stdout",
     "output_type": "stream",
     "text": [
      "a\n",
      "m\n",
      "cde\n",
      "cdefghijklm\n",
      "ab\n",
      "lm\n",
      "abcdefghijk\n",
      "abcdefghijklmnopqrst\n",
      "abcdefghijklmabcdefghijklm\n",
      "13\n",
      "ABCDEFGHIJKLM\n",
      "True\n",
      "False\n",
      "My name is Fathir and I am 23 years old!\n",
      "Hello world\n",
      "Python programming\t is easy to learn\n",
      "97\n",
      "a\n"
     ]
    }
   ],
   "source": [
    "a=\"abcdefghijklm\"\n",
    "print(a[0])#print first character\n",
    "print(a[-1])#print last character\n",
    "print(a[2:5])#print 2 nd index to 4 th index\n",
    "print(a[2:])#print from 2 nd index\n",
    "print(a[:2])#print from 1 right to left\n",
    "print(a[-2:])#print from -2th index\n",
    "print(a[:-2])#print from -3th index\n",
    "print(a+\"nopqrst\")#concatenation\n",
    "print(a*2)#replicant\n",
    "print(len(a))#number of characters\n",
    "print(str.upper(a))#upper case\n",
    "print(\"c\" in a)#character checking\n",
    "print(\"b\" not in a)#charater checking\n",
    "print(\"My name is %s and I am %d years old!\" % ('Fathir', 23)) #place holder %s for string and %d for integer\n",
    "print(\"Hello world\\nPython programming\\t is easy to learn\")#\\n for new line and \\t for tab\n",
    "print(ord('a'))#convert character into Ascii unicode\n",
    "print(chr(97))#convert Ascii unicode into character \n"
   ]
  },
  {
   "cell_type": "markdown",
   "id": "3a9fdb0a",
   "metadata": {},
   "source": [
    "# <span style=\"color: green;\">List operation</span>"
   ]
  },
  {
   "cell_type": "code",
   "execution_count": 14,
   "id": "f73326f1",
   "metadata": {},
   "outputs": [
    {
     "name": "stdout",
     "output_type": "stream",
     "text": [
      "['apple', 'orange', 2000, 69.6, 69]\n",
      "['apple', 'orange', 2000, 69]\n",
      "[[1, 1, 1], [2, 25, 2], [3, 3, 3]]\n",
      "['Hi', 'Hi', 'Hi', 'Hi']\n",
      "['apple', 'orange', 2000, 69, [1, 1, 1], [2, 25, 2], [3, 3, 3]]\n",
      "True\n",
      "\n",
      "\n",
      "['apple', 'orange', 'grapes']\n",
      "['apple', 'orange', 'grapes']\n",
      "['apple', 'orange,grapes,banana']\n"
     ]
    }
   ],
   "source": [
    "a = [\"apple\", \"orange\", 2000, 69.6]\n",
    "a.append(69);print(a)#add values\n",
    "a.remove(69.6);print(a)#drop values\n",
    "data = [[1,1,1], [2,2,2], [3,3,3]]#multi dimencional list\n",
    "data[1][1] = 25;print(data)#update list (updating not possible in list)\n",
    "len(data)#number of values\n",
    "print([\"Hi\"] * 4)#replication\n",
    "print(a+data)#concatenation\n",
    "print(2000 in a)#membership\n",
    "\n",
    "print(\"\\n\")\n",
    "\n",
    "word=\"apple orange grapes\"\n",
    "print(word.split())#this will split string into list split(seperator) #space is default seperator\n",
    "word=\"apple,orange,grapes\"\n",
    "print(word.split(\",\"))\n",
    "word=\"apple,orange,grapes,banana\"\n",
    "print(word.split(\",\",1))#split(seperator,number of split)#there is only one split"
   ]
  },
  {
   "cell_type": "markdown",
   "id": "36b0b233",
   "metadata": {},
   "source": [
    "# <span style=\"color: green;\">Set operation</span>"
   ]
  },
  {
   "cell_type": "code",
   "execution_count": 40,
   "id": "0e6e21e2",
   "metadata": {},
   "outputs": [
    {
     "name": "stdout",
     "output_type": "stream",
     "text": [
      "{'b', 'a', 'd', 'c'}\n",
      "{'s', 'r', 'q', 'p'}\n",
      "{'b', 'a', 'd', 'r', 'c'}\n",
      "False\n",
      "True\n",
      "{'b', 'a', 'd', 'r', 'c', 'e'}\n",
      "set()\n",
      "{'b', 'a', 'd', 'c', 'r', 'e'}\n",
      "\n",
      "\n",
      "{'e', 'a', 'd'}\n",
      "{'e', 'a', 'd'}\n",
      "{'a', 'e'}\n",
      "{'a', 'e'}\n",
      "{'a', 'd', 'e'}\n",
      "{'c'}\n",
      "{'c'}\n",
      "\n",
      "\n",
      "{'c', 'd', 'e'}\n",
      "{'c', 'd', 'e'}\n",
      "False\n",
      "True\n",
      "True\n",
      "True\n",
      "False\n",
      "\n",
      "\n",
      "{'b', 'a', 'd', 'r', 'c'}\n",
      "{'a', 'm', 'c', 'z', 'l'}\n",
      "{'b', 'r', 'd'}\n",
      "{'a', 'c'}\n",
      "{'a', 'c'}\n",
      "{'b', 'a', 'd', 'r', 'm', 'c', 'z', 'l'}\n",
      "{'b', 'a', 'd', 'r', 'm', 'c', 'z', 'l'}\n",
      "{'b', 'z', 'd', 'r', 'm', 'l'}\n",
      "{'b', 'z', 'd', 'r', 'm', 'l'}\n",
      "\n",
      "\n"
     ]
    }
   ],
   "source": [
    "a={\"a\",\"b\",\"c\",\"d\",\"d\"};print(a)#creating a set #duplicate will be automatically ignored\n",
    "b=set((\"p\",\"q\",\"r\",\"s\"));print(b)#another way of creating a set\n",
    "a = set('abracadabra');print(a)#convert a string characters in to a set\n",
    "print(\"A\" in a)#membership testing\n",
    "print(\"A\" not in a)#membership testing\n",
    "a.add(\"e\");print(a)#add new elements\n",
    "b.clear();print(b)#WARNING-it will delete all elements in the set and create an empty set\n",
    "copy_a=a.copy();print(copy_a)#create a copy of a set\n",
    "\n",
    "print(\"\\n\")\n",
    "\n",
    "x={\"a\",\"b\",\"c\",\"d\",\"e\"};y={\"c\",\"b\"};z={\"c\",\"d\"}\n",
    "print(x.difference(y))#x only from x,y\n",
    "print(x-y)#alt of line 12\n",
    "print(x.difference(y).difference(z))#x only from x,y,z\n",
    "print(x-y-z)#alt of line 14\n",
    "x.difference_update(y);print(x)#same as x=x-y\n",
    "y.discard(\"b\");print(y)#remove \"b\" from set y\n",
    "y.discard(\"B\");print(y)# if element not in the set nothing will happen\n",
    "z.remove(\"d\")##remove \"d\" from set z  # if element not in the set generate error(key error)\n",
    "\n",
    "print(\"\\n\")\n",
    "\n",
    "set_1={\"a\",\"b\",\"c\",\"d\",\"e\"};set_2={\"c\",\"d\",\"e\",\"f\",\"g\"}\n",
    "print(set_1.intersection(set_2))#intersection\n",
    "print(set_1&set_2)#intersection\n",
    "print(set_1.isdisjoint(set_2))#check mutually exclusive or not\n",
    "set_3={1,2};set_4={1,2,3};print(set_3.issubset(set_4))#check subset or not\n",
    "print(set_3<=set_4)#check subset or not\n",
    "print(set_3<set_4)#check proper subset or not\n",
    "print(set_3>=set_4)#check superset or not\n",
    "\n",
    "print(\"\\n\")\n",
    "\n",
    "a = set('abracadabra');b = set('alacazam');print(a);print(b)#convert a string characters in to a set\n",
    "print(a-b)#a only\n",
    "print(a&b)#intersection\n",
    "print(a.intersection(b))#intersection\n",
    "print(a|b)#union\n",
    "print(a.union(b))#union\n",
    "print(a^b)#a only and b only but not in both(symmetric difference)\n",
    "print(a.symmetric_difference(b))#a only and b only but not in both(symmetric difference)"
   ]
  },
  {
   "cell_type": "markdown",
   "id": "d1ceb020",
   "metadata": {},
   "source": [
    "# <span style=\"color: green;\">Number operation</span>"
   ]
  },
  {
   "cell_type": "code",
   "execution_count": 64,
   "id": "b4fbdd62",
   "metadata": {},
   "outputs": [
    {
     "name": "stdout",
     "output_type": "stream",
     "text": [
      "3.3333333333333335\n",
      "2.0\n",
      "4\n",
      "4.0\n",
      "4\n",
      "3\n",
      "\n",
      "\n",
      "1\n",
      "7\n",
      "6\n",
      "-6\n",
      "10\n",
      "1\n"
     ]
    }
   ],
   "source": [
    "#PEMDAS\n",
    "'''\n",
    "P:()\n",
    "E:**\n",
    "M:*\n",
    "D:/\n",
    "A:+\n",
    "S:-\n",
    "\n",
    "'''\n",
    "print(10/3)#any type of operation with division will return a float output\n",
    "print(10.0//4)#if any operands are float then output also float\n",
    "print(int(4.5))#integer part of given number\n",
    "print(float(4))#type conversion\n",
    "print(round(3.9))#rounded numbers are integers\n",
    "print(round(3.4))\n",
    "\n",
    "print(\"\\n\")\n",
    "\n",
    "#Bitwise operators\n",
    "y=5;z=3\n",
    "print(y&z)# binary and\n",
    "print(y|z)# binary or\n",
    "print(y^z)# binary xor\n",
    "print(~y)#binary negation      #short cut -(y+1)\n",
    "print(y<<1)# shift left by 1   #101.000:-1010.000\n",
    "print(y>>2)#shift right by 2   #101.000:-1.000"
   ]
  },
  {
   "cell_type": "markdown",
   "id": "a9993d24",
   "metadata": {},
   "source": [
    "# <span style=\"color: green;\">Tuple operation</span>"
   ]
  },
  {
   "cell_type": "code",
   "execution_count": 6,
   "id": "1ff0a7b4",
   "metadata": {},
   "outputs": [
    {
     "name": "stdout",
     "output_type": "stream",
     "text": [
      "('January', 'February', 'March', 'April', 'May', 'June', 'July', 'August', 'September', 'October', 'November ', 'December')\n",
      "('February', 'March')\n",
      "('January', 'February', 'March', 'April', 'May', 'June', 'July', 'August', 'September', 'October', 'November ', 'December', 'January', 'February', 'March', 'April', 'May', 'June', 'July', 'August', 'September', 'October', 'November ', 'December')\n",
      "('January', 'February', 'March', 'April', 'May', 'June', 'July', 'August', 'September', 'October', 'November ', 'December', '2013', '2104', '2015', '2016')\n"
     ]
    }
   ],
   "source": [
    "month=('January','February','March','April','May','June',\\\n",
    "       'July','August','September','October','November ','December');print(month)# a tuple\n",
    "years=('2013','2104','2015','2016')\n",
    "print(month[1:3])\n",
    "print(month*2)\n",
    "print(month+years)\n"
   ]
  }
 ],
 "metadata": {
  "kernelspec": {
   "display_name": "Python 3 (ipykernel)",
   "language": "python",
   "name": "python3"
  },
  "language_info": {
   "codemirror_mode": {
    "name": "ipython",
    "version": 3
   },
   "file_extension": ".py",
   "mimetype": "text/x-python",
   "name": "python",
   "nbconvert_exporter": "python",
   "pygments_lexer": "ipython3",
   "version": "3.9.7"
  }
 },
 "nbformat": 4,
 "nbformat_minor": 5
}
