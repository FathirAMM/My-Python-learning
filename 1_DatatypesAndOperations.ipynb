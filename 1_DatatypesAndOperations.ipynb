{
 "cells": [
  {
   "cell_type": "markdown",
   "id": "84855963",
   "metadata": {},
   "source": [
    "# <h1 align=\"center\" color=\"red\"><span style=\"color: red;\">Day 01- Kick start 26/5/2022</span></h1> "
   ]
  },
  {
   "cell_type": "markdown",
   "id": "f308de79",
   "metadata": {},
   "source": [
    "# <span style=\"color: green;\">First python code</span>"
   ]
  },
  {
   "cell_type": "code",
   "execution_count": 3,
   "id": "1874e3a8",
   "metadata": {},
   "outputs": [
    {
     "name": "stdout",
     "output_type": "stream",
     "text": [
      "Hello world\n"
     ]
    }
   ],
   "source": [
    "print(\"Hello world\")"
   ]
  },
  {
   "cell_type": "markdown",
   "id": "f97bc46f",
   "metadata": {},
   "source": [
    "# <span style=\"color: green;\">Data types</span>"
   ]
  },
  {
   "cell_type": "code",
   "execution_count": 38,
   "id": "1691bf54",
   "metadata": {},
   "outputs": [
    {
     "name": "stdout",
     "output_type": "stream",
     "text": [
      "1     <class 'int'>\n",
      "1.0     <class 'float'>\n",
      "True     <class 'bool'>\n",
      "(5+5j)     <class 'complex'>\n",
      "555     <class 'str'>\n",
      "[1, 1.0, 'cat', 45]     <class 'list'>\n",
      "(1, 1.0, 'cat', 45)     <class 'tuple'>\n",
      "{'cat', 1, 45, 25}     <class 'set'>\n",
      "{'maths': 45, 'physics': 56, 'chemistry': 89}     <class 'dict'>\n"
     ]
    }
   ],
   "source": [
    "#Numerical data types\n",
    "a=1;                                                     print(a,\"   \",type(a))\n",
    "\n",
    "b=1.0;                                                   print(b,\"   \",type(b))\n",
    "\n",
    "c=10 > 5;                                                print(c,\"   \",type(c))\n",
    "\n",
    "d=5+5j;                                                  print(d,\"   \",type(d))\n",
    "\n",
    " \n",
    "#text data types    \n",
    "e=\"555\";                                                 print(e,\"   \",type(e))\n",
    "\n",
    "                                                       \n",
    "#container data types\n",
    "f=[1,1.0,\"cat\",45];                                      print(f,\"   \",type(f))\n",
    "                                                         #list has comma seprated values within [] &values can be anything\n",
    "                                                         #list order index start with 0 and end with -1\n",
    "g=(1,1.0,\"cat\",45);                                      print(g,\"   \",type(g))\n",
    "                                                         #tuple is read only ordered list & comma seperated values within ()\n",
    "h={1,25,\"cat\",45};                                       print(h,\"   \",type(h))\n",
    "                                                         #set has unordered comma seperated nonduplicate values within {}\n",
    "i={\"maths\":45,\"physics\":56,\"chemistry\":89};              print(i,\"   \",type(i))\n",
    "                                                         #dictionary is a unorederd key-value pairs comma seperated values within {}"
   ]
  },
  {
   "cell_type": "markdown",
   "id": "13cb47de",
   "metadata": {},
   "source": [
    "# <span style=\"color: green;\">String operation</span>"
   ]
  },
  {
   "cell_type": "code",
   "execution_count": 57,
   "id": "855a1fd9",
   "metadata": {},
   "outputs": [
    {
     "name": "stdout",
     "output_type": "stream",
     "text": [
      "a\n",
      "m\n",
      "cde\n",
      "cdefghijklm\n",
      "ab\n",
      "lm\n",
      "abcdefghijk\n",
      "abcdefghijklmnopqrst\n",
      "abcdefghijklmabcdefghijklm\n",
      "13\n",
      "ABCDEFGHIJKLM\n",
      "True\n",
      "False\n",
      "My name is Fathir and I am 23 years old!\n"
     ]
    }
   ],
   "source": [
    "a=\"abcdefghijklm\"\n",
    "print(a[0])#print first character\n",
    "print(a[-1])#print last character\n",
    "print(a[2:5])#print 2 nd index to 4 th index\n",
    "print(a[2:])#print from 2 nd index\n",
    "print(a[:2])#print from 1 right to left\n",
    "print(a[-2:])#print from -2th index\n",
    "print(a[:-2])#print from -3th index\n",
    "print(a+\"nopqrst\")#concatenation\n",
    "print(a*2)#replicant\n",
    "print(len(a))#number of characters\n",
    "print(str.upper(a))#upper case\n",
    "print(\"c\" in a)#character checking\n",
    "print(\"b\" not in a)#charater checking\n",
    "print(\"My name is %s and I am %d years old!\" % ('Fathir', 23)) #place holder %s for string and %d for integer"
   ]
  },
  {
   "cell_type": "markdown",
   "id": "3a9fdb0a",
   "metadata": {},
   "source": [
    "# <span style=\"color: green;\">List operation</span>"
   ]
  },
  {
   "cell_type": "code",
   "execution_count": 70,
   "id": "f73326f1",
   "metadata": {},
   "outputs": [
    {
     "name": "stdout",
     "output_type": "stream",
     "text": [
      "['apple', 'orange', 2000, 69.6, 69]\n",
      "['apple', 'orange', 2000, 69]\n",
      "[[1, 1, 1], [2, 25, 2], [3, 3, 3]]\n",
      "['Hi', 'Hi', 'Hi', 'Hi']\n",
      "['apple', 'orange', 2000, 69, [1, 1, 1], [2, 25, 2], [3, 3, 3]]\n",
      "True\n"
     ]
    }
   ],
   "source": [
    "a = [\"apple\", \"orange\", 2000, 69.6]\n",
    "a.append(69);print(a)#add values\n",
    "a.remove(69.6);print(a)#drop values\n",
    "data = [[1,1,1], [2,2,2], [3,3,3]]#multi dimencional list\n",
    "data[1][1] = 25;print(data)#update list (updating not possible in list)\n",
    "len(data)#number of values\n",
    "print([\"Hi\"] * 4)#replication\n",
    "print(a+data)#concatenation\n",
    "print(2000 in a)#membership"
   ]
  },
  {
   "cell_type": "markdown",
   "id": "36b0b233",
   "metadata": {},
   "source": [
    "# <span style=\"color: green;\">Set operation</span>"
   ]
  },
  {
   "cell_type": "code",
   "execution_count": 72,
   "id": "0e6e21e2",
   "metadata": {},
   "outputs": [
    {
     "name": "stdout",
     "output_type": "stream",
     "text": [
      "{'banana', 'pear', 'apple', 'orange'}\n",
      "{'pear', 'apple', 'orange', 'grapes', 'banana'}\n"
     ]
    }
   ],
   "source": [
    "basket = {'apple', 'orange', 'apple', 'pear', 'orange','banana'};print(basket)\n",
    "basket.add('grapes');print(basket)#add element"
   ]
  },
  {
   "cell_type": "code",
   "execution_count": null,
   "id": "126a67e4",
   "metadata": {},
   "outputs": [],
   "source": []
  }
 ],
 "metadata": {
  "kernelspec": {
   "display_name": "Python 3 (ipykernel)",
   "language": "python",
   "name": "python3"
  },
  "language_info": {
   "codemirror_mode": {
    "name": "ipython",
    "version": 3
   },
   "file_extension": ".py",
   "mimetype": "text/x-python",
   "name": "python",
   "nbconvert_exporter": "python",
   "pygments_lexer": "ipython3",
   "version": "3.9.7"
  }
 },
 "nbformat": 4,
 "nbformat_minor": 5
}
